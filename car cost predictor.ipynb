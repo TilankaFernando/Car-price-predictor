{
 "cells": [
  {
   "cell_type": "code",
   "execution_count": 4,
   "id": "900955eb-fa2b-41d1-8870-7252dc093916",
   "metadata": {},
   "outputs": [],
   "source": [
    "import pandas as pd\n",
    "import numpy as np\n",
    "from sklearn.model_selection import train_test_split\n",
    "from sklearn.linear_model import LinearRegression\n",
    "from sklearn.metrics import mean_squared_error\n"
   ]
  },
  {
   "cell_type": "code",
   "execution_count": 5,
   "id": "367283e0-b205-40e4-b48a-c907d425ebf9",
   "metadata": {},
   "outputs": [
    {
     "data": {
      "text/html": [
       "<div>\n",
       "<style scoped>\n",
       "    .dataframe tbody tr th:only-of-type {\n",
       "        vertical-align: middle;\n",
       "    }\n",
       "\n",
       "    .dataframe tbody tr th {\n",
       "        vertical-align: top;\n",
       "    }\n",
       "\n",
       "    .dataframe thead th {\n",
       "        text-align: right;\n",
       "    }\n",
       "</style>\n",
       "<table border=\"1\" class=\"dataframe\">\n",
       "  <thead>\n",
       "    <tr style=\"text-align: right;\">\n",
       "      <th></th>\n",
       "      <th>Present_Price</th>\n",
       "      <th>Kms_Driven</th>\n",
       "      <th>Owner</th>\n",
       "      <th>Fuel_Type</th>\n",
       "      <th>Seller_Type</th>\n",
       "      <th>Transmission</th>\n",
       "      <th>Selling_Price</th>\n",
       "    </tr>\n",
       "  </thead>\n",
       "  <tbody>\n",
       "    <tr>\n",
       "      <th>0</th>\n",
       "      <td>5.59</td>\n",
       "      <td>27000</td>\n",
       "      <td>0</td>\n",
       "      <td>Petrol</td>\n",
       "      <td>Dealer</td>\n",
       "      <td>Manual</td>\n",
       "      <td>3.35</td>\n",
       "    </tr>\n",
       "    <tr>\n",
       "      <th>1</th>\n",
       "      <td>9.54</td>\n",
       "      <td>43000</td>\n",
       "      <td>0</td>\n",
       "      <td>Diesel</td>\n",
       "      <td>Dealer</td>\n",
       "      <td>Manual</td>\n",
       "      <td>4.75</td>\n",
       "    </tr>\n",
       "    <tr>\n",
       "      <th>2</th>\n",
       "      <td>9.85</td>\n",
       "      <td>6900</td>\n",
       "      <td>0</td>\n",
       "      <td>Petrol</td>\n",
       "      <td>Dealer</td>\n",
       "      <td>Manual</td>\n",
       "      <td>7.25</td>\n",
       "    </tr>\n",
       "    <tr>\n",
       "      <th>3</th>\n",
       "      <td>4.15</td>\n",
       "      <td>5200</td>\n",
       "      <td>0</td>\n",
       "      <td>Diesel</td>\n",
       "      <td>Individual</td>\n",
       "      <td>Manual</td>\n",
       "      <td>2.85</td>\n",
       "    </tr>\n",
       "    <tr>\n",
       "      <th>4</th>\n",
       "      <td>6.87</td>\n",
       "      <td>42450</td>\n",
       "      <td>0</td>\n",
       "      <td>Petrol</td>\n",
       "      <td>Dealer</td>\n",
       "      <td>Manual</td>\n",
       "      <td>4.60</td>\n",
       "    </tr>\n",
       "  </tbody>\n",
       "</table>\n",
       "</div>"
      ],
      "text/plain": [
       "   Present_Price  Kms_Driven  Owner Fuel_Type Seller_Type Transmission  \\\n",
       "0           5.59       27000      0    Petrol      Dealer       Manual   \n",
       "1           9.54       43000      0    Diesel      Dealer       Manual   \n",
       "2           9.85        6900      0    Petrol      Dealer       Manual   \n",
       "3           4.15        5200      0    Diesel  Individual       Manual   \n",
       "4           6.87       42450      0    Petrol      Dealer       Manual   \n",
       "\n",
       "   Selling_Price  \n",
       "0           3.35  \n",
       "1           4.75  \n",
       "2           7.25  \n",
       "3           2.85  \n",
       "4           4.60  "
      ]
     },
     "execution_count": 5,
     "metadata": {},
     "output_type": "execute_result"
    }
   ],
   "source": [
    "data = {\n",
    "    'Present_Price': [5.59, 9.54, 9.85, 4.15, 6.87, 9.54, 8.2, 11.15],\n",
    "    'Kms_Driven': [27000, 43000, 6900, 5200, 42450, 10000, 45000, 24000],\n",
    "    'Owner': [0, 0, 0, 0, 0, 0, 1, 0],\n",
    "    'Fuel_Type': ['Petrol', 'Diesel', 'Petrol', 'Diesel', 'Petrol', 'Petrol', 'Diesel', 'Petrol'],\n",
    "    'Seller_Type': ['Dealer', 'Dealer', 'Dealer', 'Individual', 'Dealer', 'Individual', 'Dealer', 'Dealer'],\n",
    "    'Transmission': ['Manual', 'Manual', 'Manual', 'Manual', 'Manual', 'Manual', 'Manual', 'Automatic'],\n",
    "    'Selling_Price': [3.35, 4.75, 7.25, 2.85, 4.60, 4.50, 3.40, 6.00]\n",
    "}\n",
    "df = pd.DataFrame(data)\n",
    "df.head()\n"
   ]
  },
  {
   "cell_type": "code",
   "execution_count": null,
   "id": "fc5c2da2-297e-4d0d-a799-53d6b1e65ff3",
   "metadata": {},
   "outputs": [],
   "source": []
  },
  {
   "cell_type": "code",
   "execution_count": 6,
   "id": "43ee4606-cdf4-4211-9d83-aa36ac9e99dc",
   "metadata": {},
   "outputs": [],
   "source": [
    "df_encoded = pd.get_dummies(df, drop_first=True)\n",
    "\n",
    "X = df_encoded.drop('Selling_Price', axis=1)\n",
    "y = df_encoded['Selling_Price']\n"
   ]
  },
  {
   "cell_type": "code",
   "execution_count": 7,
   "id": "bcbaba81-0b3a-43da-b36a-f0c2361f10e0",
   "metadata": {},
   "outputs": [
    {
     "name": "stdout",
     "output_type": "stream",
     "text": [
      "Model trained! Mean Squared Error: 9.30\n"
     ]
    }
   ],
   "source": [
    "X_train, X_test, y_train, y_test = train_test_split(X, y, test_size=0.2, random_state=42)\n",
    "\n",
    "model = LinearRegression()\n",
    "model.fit(X_train, y_train)\n",
    "\n",
    "# Test performance\n",
    "y_pred = model.predict(X_test)\n",
    "mse = mean_squared_error(y_test, y_pred)\n",
    "print(f\"Model trained! Mean Squared Error: {mse:.2f}\")\n"
   ]
  },
  {
   "cell_type": "code",
   "execution_count": 8,
   "id": "41d7012c-75f9-4df6-adce-410c0855d109",
   "metadata": {},
   "outputs": [],
   "source": [
    "def predict_price(present_price, kms_driven, owner, fuel_type, seller_type, transmission):\n",
    "    # Manual encoding as per the one-hot encoding in training\n",
    "    fuel_diesel = 1 if fuel_type == 'Diesel' else 0\n",
    "    seller_individual = 1 if seller_type == 'Individual' else 0\n",
    "    transmission_manual = 1 if transmission == 'Manual' else 0\n",
    "\n",
    "    # Create input array with correct feature order\n",
    "    input_data = np.array([[present_price, kms_driven, owner, fuel_diesel, seller_individual, transmission_manual]])\n",
    "    predicted_price = model.predict(input_data)[0]\n",
    "    return round(predicted_price, 2)\n"
   ]
  },
  {
   "cell_type": "code",
   "execution_count": 11,
   "id": "783f0daf-a39a-4609-b399-756be28de988",
   "metadata": {},
   "outputs": [
    {
     "name": "stdout",
     "output_type": "stream",
     "text": [
      "Predicted Selling Price: ₹ 3.72 Lakhs\n"
     ]
    },
    {
     "name": "stderr",
     "output_type": "stream",
     "text": [
      "C:\\Users\\tilan\\AppData\\Roaming\\Python\\Python313\\site-packages\\sklearn\\utils\\validation.py:2749: UserWarning: X does not have valid feature names, but LinearRegression was fitted with feature names\n",
      "  warnings.warn(\n"
     ]
    }
   ],
   "source": [
    "predicted = predict_price(\n",
    "    present_price=6.5,\n",
    "    kms_driven=35000,\n",
    "    owner=0,\n",
    "    fuel_type='Petrol',\n",
    "    seller_type='Dealer',\n",
    "    transmission='Manual'\n",
    ")\n",
    "print(f\"Predicted Selling Price: ₹ {predicted} Lakhs\")\n"
   ]
  },
  {
   "cell_type": "code",
   "execution_count": 16,
   "id": "724197ea-8fc9-4eba-8b70-9194f7ec7b43",
   "metadata": {
    "scrolled": true
   },
   "outputs": [
    {
     "data": {
      "application/vnd.jupyter.widget-view+json": {
       "model_id": "c366cfecc3a146fcba0af8048df643fb",
       "version_major": 2,
       "version_minor": 0
      },
      "text/plain": [
       "FloatText(value=0.0, description='Price:')"
      ]
     },
     "metadata": {},
     "output_type": "display_data"
    },
    {
     "data": {
      "application/vnd.jupyter.widget-view+json": {
       "model_id": "be635adaee194aa5bd055265364a413f",
       "version_major": 2,
       "version_minor": 0
      },
      "text/plain": [
       "IntText(value=0, description='KMs Driven:')"
      ]
     },
     "metadata": {},
     "output_type": "display_data"
    },
    {
     "data": {
      "application/vnd.jupyter.widget-view+json": {
       "model_id": "44f26c57bd2f405daf9d4cff49d5873e",
       "version_major": 2,
       "version_minor": 0
      },
      "text/plain": [
       "IntSlider(value=0, description='Owners', max=2)"
      ]
     },
     "metadata": {},
     "output_type": "display_data"
    },
    {
     "data": {
      "application/vnd.jupyter.widget-view+json": {
       "model_id": "cd48f7cfecb240099d04b889c7d90ca4",
       "version_major": 2,
       "version_minor": 0
      },
      "text/plain": [
       "Dropdown(description='Fuel:', options=('Petrol', 'Diesel'), value='Petrol')"
      ]
     },
     "metadata": {},
     "output_type": "display_data"
    },
    {
     "data": {
      "application/vnd.jupyter.widget-view+json": {
       "model_id": "b4a8fbac4eff4cf296c51456fea5f26a",
       "version_major": 2,
       "version_minor": 0
      },
      "text/plain": [
       "Dropdown(description='Seller:', options=('Dealer', 'Individual'), value='Dealer')"
      ]
     },
     "metadata": {},
     "output_type": "display_data"
    },
    {
     "data": {
      "application/vnd.jupyter.widget-view+json": {
       "model_id": "d80cfb3cf0e84900bd3539be34e0274b",
       "version_major": 2,
       "version_minor": 0
      },
      "text/plain": [
       "Dropdown(description='Transmission:', options=('Manual', 'Automatic'), value='Manual')"
      ]
     },
     "metadata": {},
     "output_type": "display_data"
    },
    {
     "data": {
      "application/vnd.jupyter.widget-view+json": {
       "model_id": "b0fc691bca0740b68c9efceebc9f68e1",
       "version_major": 2,
       "version_minor": 0
      },
      "text/plain": [
       "Button(button_style='success', description='Predict Price', style=ButtonStyle())"
      ]
     },
     "metadata": {},
     "output_type": "display_data"
    },
    {
     "data": {
      "application/vnd.jupyter.widget-view+json": {
       "model_id": "690f7218c41547f6ac3f4b467e6c17c7",
       "version_major": 2,
       "version_minor": 0
      },
      "text/plain": [
       "Output()"
      ]
     },
     "metadata": {},
     "output_type": "display_data"
    }
   ],
   "source": [
    "import ipywidgets as widgets\n",
    "from IPython.display import display, clear_output\n",
    "\n",
    "# Create input widgets\n",
    "present_price = widgets.FloatText(description='Price:')\n",
    "kms_driven = widgets.IntText(description='KMs Driven:')\n",
    "owner = widgets.IntSlider(description='Owners', min=0, max=2, step=1)\n",
    "fuel_type = widgets.Dropdown(options=['Petrol', 'Diesel'], description='Fuel:')\n",
    "seller_type = widgets.Dropdown(options=['Dealer', 'Individual'], description='Seller:')\n",
    "transmission = widgets.Dropdown(options=['Manual', 'Automatic'], description='Transmission:')\n",
    "button = widgets.Button(description='Predict Price', button_style='success')\n",
    "\n",
    "# Output area widget\n",
    "output = widgets.Output()\n",
    "\n",
    "# Prediction function (you must already have this defined!)\n",
    "# def predict_price(...): --> Make sure this is already defined correctly\n",
    "\n",
    "# Button click event\n",
    "def on_button_click(b):\n",
    "    with output:\n",
    "        clear_output()\n",
    "        price = predict_price(\n",
    "            present_price.value,\n",
    "            kms_driven.value,\n",
    "            owner.value,\n",
    "            fuel_type.value,\n",
    "            seller_type.value,\n",
    "            transmission.value\n",
    "        )\n",
    "        print(f\"🚗 Predicted Selling Price: LKR {price} Lakhs\")\n",
    "\n",
    "button.on_click(on_button_click)\n",
    "\n",
    "# Show widgets and output\n",
    "display(present_price, kms_driven, owner, fuel_type, seller_type, transmission, button, output)\n",
    "\n",
    " \n",
    "\n"
   ]
  },
  {
   "cell_type": "code",
   "execution_count": null,
   "id": "2c130169-6770-4729-80b0-640c7702a700",
   "metadata": {},
   "outputs": [],
   "source": []
  }
 ],
 "metadata": {
  "kernelspec": {
   "display_name": "Python [conda env:base] *",
   "language": "python",
   "name": "conda-base-py"
  },
  "language_info": {
   "codemirror_mode": {
    "name": "ipython",
    "version": 3
   },
   "file_extension": ".py",
   "mimetype": "text/x-python",
   "name": "python",
   "nbconvert_exporter": "python",
   "pygments_lexer": "ipython3",
   "version": "3.13.5"
  }
 },
 "nbformat": 4,
 "nbformat_minor": 5
}
